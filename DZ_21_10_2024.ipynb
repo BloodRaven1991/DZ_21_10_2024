{
 "cells": [
  {
   "cell_type": "markdown",
   "metadata": {},
   "source": [
    "Задание 1\n",
    "Напишите функцию, которая отображает на экран\n",
    "форматированный текст, указанный ниже:\n",
    "“Don't compare yourself with anyone in this world…\n",
    "if you do so, you are insulting yourself.”\n",
    "Bill Gates"
   ]
  },
  {
   "cell_type": "code",
   "execution_count": 7,
   "metadata": {},
   "outputs": [
    {
     "name": "stdout",
     "output_type": "stream",
     "text": [
      "Don't compare yourself with anyone in this world...\n",
      "if you do so, you are insulting yourself.\n",
      "Bill Gates\n"
     ]
    }
   ],
   "source": [
    "def display_tekst():\n",
    "    tekst = (\n",
    "        \"Don't compare yourself with anyone in this world...\\n\"\n",
    "        \"if you do so, you are insulting yourself.\"\n",
    "    )\n",
    "    author = \"Bill Gates\"\n",
    "    print(tekst)\n",
    "    print(author)\n",
    "\n",
    "display_tekst()"
   ]
  },
  {
   "cell_type": "markdown",
   "metadata": {},
   "source": [
    "Задание 2\n",
    "Напишите функцию, которая принимает два числа\n",
    "в качестве параметра и отображает все четные числа\n",
    "между ними."
   ]
  },
  {
   "cell_type": "code",
   "execution_count": 13,
   "metadata": {},
   "outputs": [
    {
     "name": "stdout",
     "output_type": "stream",
     "text": [
      "4\n",
      "6\n",
      "8\n"
     ]
    }
   ],
   "source": [
    "def numbers(start, end):\n",
    "\n",
    "    if start > end:\n",
    "        start, end = end, start\n",
    "    for num in range(start, end - 1):\n",
    "        if num % 2 == 0:\n",
    "            print(num)\n",
    "\n",
    "numbers(3, 10)"
   ]
  },
  {
   "cell_type": "markdown",
   "metadata": {},
   "source": [
    "Задание 3\n",
    "Напишите функцию, которая отображает пустой или\n",
    "заполненный квадрат из некоторого символа. Функция\n",
    "принимает в качестве параметров: длину стороны квадрата, символ и переменную логического типа:\n",
    "■ если она равна True, квадрат заполненный;\n",
    "■ если False, квадрат пустой."
   ]
  },
  {
   "cell_type": "code",
   "execution_count": 14,
   "metadata": {},
   "outputs": [
    {
     "name": "stdout",
     "output_type": "stream",
     "text": [
      "Заполненный квадрат:\n",
      "*****\n",
      "*****\n",
      "*****\n",
      "*****\n",
      "*****\n",
      "\n",
      "Пустой квадрат:\n",
      "#####\n",
      "#   #\n",
      "#   #\n",
      "#   #\n",
      "#####\n"
     ]
    }
   ],
   "source": [
    "def display_square(size, symbol, filled):\n",
    "    if filled:\n",
    "        for _ in range(size):\n",
    "            print(symbol * size)\n",
    "    else:\n",
    "        for i in range(size):\n",
    "            if i == 0 or i == size - 1:\n",
    "                print(symbol * size)\n",
    "            else:\n",
    "                print(symbol + ' ' * (size - 2) + symbol)\n",
    "\n",
    "\n",
    "print(\"Заполненный квадрат:\")\n",
    "display_square(5, '*', True)\n",
    "\n",
    "print(\"\\nПустой квадрат:\")\n",
    "display_square(5, '#', False)"
   ]
  },
  {
   "cell_type": "markdown",
   "metadata": {},
   "source": [
    "Задание 4\n",
    "Напишите функцию, которая возвращает минимальное\n",
    "из пяти чисел. Числа передаются в качестве параметров.\n"
   ]
  },
  {
   "cell_type": "code",
   "execution_count": 16,
   "metadata": {},
   "outputs": [
    {
     "name": "stdout",
     "output_type": "stream",
     "text": [
      "Минимальное значение: 3\n"
     ]
    }
   ],
   "source": [
    "def find_minimum(num1, num2, num3, num4, num5):\n",
    "    return min(num1, num2, num3, num4, num5)\n",
    "\n",
    "minimum_value = find_minimum(3, 6, 9, 12, 15)\n",
    "print(f\"Минимальное значение: {minimum_value}\")"
   ]
  },
  {
   "cell_type": "markdown",
   "metadata": {},
   "source": [
    "Задание 5\n",
    "Напишите функцию, которая возвращает произведение чисел в указанном диапазоне. Границы диапазона\n",
    "передаются в качестве параметров. Если границы диапазона перепутаны ( например, 5 - верхняя граница, 25 - нижняя граница), их нужно поменять местами."
   ]
  },
  {
   "cell_type": "code",
   "execution_count": 20,
   "metadata": {},
   "outputs": [
    {
     "name": "stdout",
     "output_type": "stream",
     "text": [
      "Произведение чисел в диапазоне от 3 до 5: 60\n",
      "Произведение чисел в диапазоне от 1 до 5: 1\n",
      "Произведение чисел в диапазоне от 4 до 4: 4\n"
     ]
    }
   ],
   "source": [
    "def product_in_range(lower, upper):\n",
    "        lower, upper = upper, lower\n",
    "\n",
    "        product = 1\n",
    "        for number in range(lower, upper + 1):\n",
    "            product *= number\n",
    "        return product\n",
    "\n",
    "result1 = product_in_range(5, 3)\n",
    "print(f\"Произведение чисел в диапазоне от 3 до 5: {result1}\")\n",
    "\n",
    "result2 = product_in_range(1, 5)\n",
    "print(f\"Произведение чисел в диапазоне от 1 до 5: {result2}\")\n",
    "\n",
    "result3 = product_in_range(4, 4)\n",
    "print(f\"Произведение чисел в диапазоне от 4 до 4: {result3}\")"
   ]
  },
  {
   "cell_type": "markdown",
   "metadata": {},
   "source": [
    "Задание 6\n",
    "Напишите функцию, которая считает количество\n",
    "цифр в числе. Число передаётся в качестве параметра. Из\n",
    "функции нужно вернуть полученное количество цифр.\n",
    "Например, если передали 3456, количество цифр будет 4."
   ]
  },
  {
   "cell_type": "code",
   "execution_count": 26,
   "metadata": {},
   "outputs": [
    {
     "name": "stdout",
     "output_type": "stream",
     "text": [
      "Количество цифр в числе 63851: 5\n"
     ]
    }
   ],
   "source": [
    "def sum_num(number):\n",
    "    return len(str(abs(number)))\n",
    "\n",
    "result = sum_num(63851)\n",
    "print(f\"Количество цифр в числе 63851: {result}\")"
   ]
  },
  {
   "cell_type": "markdown",
   "metadata": {},
   "source": [
    "Задание 7\n",
    "Напишите функцию, которая проверяет является ли\n",
    "число палиндромом. Число передаётся в качестве параметра. Если число палиндром нужно вернуть из функции\n",
    "true, иначе false.\n",
    "«Палиндром» — это число, у которого первая часть\n",
    "цифр равна второй перевернутой части цифр. Например,\n",
    "123321—палиндром(первая часть 123, вторая 321, которая\n",
    "после переворота становится 123), 546645 — палиндром,\n",
    "а 421987 — не палиндром. \n"
   ]
  },
  {
   "cell_type": "code",
   "execution_count": 29,
   "metadata": {},
   "outputs": [
    {
     "name": "stdout",
     "output_type": "stream",
     "text": [
      "True\n",
      "True\n",
      "False\n",
      "True\n"
     ]
    }
   ],
   "source": [
    "def is_palindrome(number):\n",
    "    str_number = str(abs(number))\n",
    "    \n",
    "    length = len(str_number)\n",
    "    first_half = str_number[:length // 2]\n",
    "    second_half = str_number[-(length // 2):][::-1]\n",
    "    \n",
    "    return first_half == second_half\n",
    "\n",
    "print(is_palindrome(123321))\n",
    "print(is_palindrome(546645))\n",
    "print(is_palindrome(421987))\n",
    "print(is_palindrome(-12321))\n"
   ]
  }
 ],
 "metadata": {
  "kernelspec": {
   "display_name": "Python 3",
   "language": "python",
   "name": "python3"
  },
  "language_info": {
   "codemirror_mode": {
    "name": "ipython",
    "version": 3
   },
   "file_extension": ".py",
   "mimetype": "text/x-python",
   "name": "python",
   "nbconvert_exporter": "python",
   "pygments_lexer": "ipython3",
   "version": "3.12.6"
  }
 },
 "nbformat": 4,
 "nbformat_minor": 2
}
